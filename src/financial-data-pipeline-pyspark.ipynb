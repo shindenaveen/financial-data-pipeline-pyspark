{
 "cells": [
  {
   "cell_type": "code",
   "execution_count": 1,
   "id": "3f9373a1-d660-431d-a6d9-51f6f9a26cd8",
   "metadata": {},
   "outputs": [],
   "source": [
    "from pyspark.sql import SparkSession\n",
    "from pyspark.sql.functions import col, when\n",
    "\n",
    "# Initialize Spark Session\n",
    "spark = SparkSession.builder.appName(\"FinancialDataETL\").getOrCreate()\n",
    "\n",
    "# Read data\n",
    "df = spark.read.csv(\"fintech_sample.csv\", header=True, inferSchema=True)\n",
    "\n",
    "# Data Cleaning: Remove nulls\n",
    "cleaned_df = df.dropna()\n",
    "\n",
    "# Feature Engineering: Debt to Income Ratio\n",
    "cleaned_df = cleaned_df.withColumn(\n",
    "    \"debt_to_income\",\n",
    "    col(\"current_debt\") / col(\"income\")\n",
    ")\n",
    "\n",
    "# Risk Scoring (simple rule: high debt_to_income = high risk)\n",
    "risk_df = cleaned_df.withColumn(\n",
    "    \"risk_score\",\n",
    "    when(col(\"debt_to_income\") > 0.25, \"HIGH\")\n",
    "    .when(col(\"debt_to_income\") > 0.10, \"MEDIUM\")\n",
    "    .otherwise(\"LOW\")\n",
    ")\n",
    "\n",
    "# Save cleaned data & risk scores to output\n",
    "cleaned_df.toPandas().to_csv(\"cleaned_data.csv\", index=False)\n",
    "risk_df.select(\"id\", \"risk_score\").toPandas().to_csv(\"risk_scores.csv\", index=False)\n",
    "\n",
    "spark.stop()\n"
   ]
  },
  {
   "cell_type": "code",
   "execution_count": 2,
   "id": "38f952f5-0dc4-4a94-b909-a726a884c638",
   "metadata": {},
   "outputs": [
    {
     "name": "stdout",
     "output_type": "stream",
     "text": [
      "             id        age         income   loan_amount  current_debt  \\\n",
      "count  50.00000  50.000000      50.000000     50.000000     50.000000   \n",
      "mean   25.50000  41.260000   73088.000000  15974.000000   6841.000000   \n",
      "std    14.57738   9.501471   16519.297806   7989.937805   5698.242568   \n",
      "min     1.00000  26.000000   42000.000000   5000.000000      0.000000   \n",
      "25%    13.25000  33.250000   59625.000000   9225.000000   2000.000000   \n",
      "50%    25.50000  41.000000   74250.000000  14000.000000   4950.000000   \n",
      "75%    37.75000  49.000000   86750.000000  21750.000000   9862.500000   \n",
      "max    50.00000  59.000000  105000.000000  35000.000000  20000.000000   \n",
      "\n",
      "       defaulted  debt_to_income  \n",
      "count  50.000000       50.000000  \n",
      "mean    0.380000        0.084275  \n",
      "std     0.490314        0.061006  \n",
      "min     0.000000        0.000000  \n",
      "25%     0.000000        0.031955  \n",
      "50%     0.000000        0.073409  \n",
      "75%     1.000000        0.125815  \n",
      "max     1.000000        0.224852  \n"
     ]
    },
    {
     "data": {
      "image/png": "[encoded data removed]",
      "text/plain": [
       "<Figure size 640x480 with 1 Axes>"
      ]
     },
     "metadata": {},
     "output_type": "display_data"
    }
   ],
   "source": [
    "import pandas as pd\n",
    "import matplotlib.pyplot as plt\n",
    "\n",
    "df = pd.read_csv('cleaned_data.csv')\n",
    "print(df.describe())\n",
    "df['debt_to_income'].hist()\n",
    "plt.title('Debt to Income Ratio Distribution')\n",
    "plt.show()\n"
   ]
  },
  {
   "cell_type": "code",
   "execution_count": null,
   "id": "ec2e6af4-f4df-4561-86e1-b5aa9c2887e7",
   "metadata": {},
   "outputs": [],
   "source": []
  }
 ],
 "metadata": {
  "kernelspec": {
   "display_name": "Python 3 (ipykernel)",
   "language": "python",
   "name": "python3"
  },
  "language_info": {
   "codemirror_mode": {
    "name": "ipython",
    "version": 3
   },
   "file_extension": ".py",
   "mimetype": "text/x-python",
   "name": "python",
   "nbconvert_exporter": "python",
   "pygments_lexer": "ipython3",
   "version": "3.8.10"
  }
 },
 "nbformat": 4,
 "nbformat_minor": 5
}
